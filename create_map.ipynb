{
 "cells": [
  {
   "cell_type": "code",
   "execution_count": 63,
   "metadata": {},
   "outputs": [],
   "source": [
    "import os\n",
    "import sys\n",
    "import pandas as pd"
   ]
  },
  {
   "cell_type": "code",
   "execution_count": 64,
   "metadata": {},
   "outputs": [
    {
     "data": {
      "text/html": [
       "<div>\n",
       "<style scoped>\n",
       "    .dataframe tbody tr th:only-of-type {\n",
       "        vertical-align: middle;\n",
       "    }\n",
       "\n",
       "    .dataframe tbody tr th {\n",
       "        vertical-align: top;\n",
       "    }\n",
       "\n",
       "    .dataframe thead th {\n",
       "        text-align: right;\n",
       "    }\n",
       "</style>\n",
       "<table border=\"1\" class=\"dataframe\">\n",
       "  <thead>\n",
       "    <tr style=\"text-align: right;\">\n",
       "      <th></th>\n",
       "      <th>op_type</th>\n",
       "      <th>rw</th>\n",
       "      <th>lpa_start</th>\n",
       "      <th>lpa_len</th>\n",
       "    </tr>\n",
       "  </thead>\n",
       "  <tbody>\n",
       "    <tr>\n",
       "      <th>1</th>\n",
       "      <td>Q</td>\n",
       "      <td>R</td>\n",
       "      <td>636634680</td>\n",
       "      <td>8</td>\n",
       "    </tr>\n",
       "    <tr>\n",
       "      <th>2</th>\n",
       "      <td>G</td>\n",
       "      <td>R</td>\n",
       "      <td>636634680</td>\n",
       "      <td>8</td>\n",
       "    </tr>\n",
       "    <tr>\n",
       "      <th>3</th>\n",
       "      <td>I</td>\n",
       "      <td>RS</td>\n",
       "      <td>636634680</td>\n",
       "      <td>8</td>\n",
       "    </tr>\n",
       "    <tr>\n",
       "      <th>4</th>\n",
       "      <td>D</td>\n",
       "      <td>RS</td>\n",
       "      <td>636634680</td>\n",
       "      <td>8</td>\n",
       "    </tr>\n",
       "    <tr>\n",
       "      <th>5</th>\n",
       "      <td>C</td>\n",
       "      <td>RS</td>\n",
       "      <td>636634680</td>\n",
       "      <td>8</td>\n",
       "    </tr>\n",
       "  </tbody>\n",
       "</table>\n",
       "</div>"
      ],
      "text/plain": [
       "  op_type  rw  lpa_start  lpa_len\n",
       "1       Q   R  636634680        8\n",
       "2       G   R  636634680        8\n",
       "3       I  RS  636634680        8\n",
       "4       D  RS  636634680        8\n",
       "5       C  RS  636634680        8"
      ]
     },
     "execution_count": 64,
     "metadata": {},
     "output_type": "execute_result"
    }
   ],
   "source": [
    "bin_id = 0\n",
    "# csv_file = 'filtered_data/bin_' + str(bin_id) + '.csv'\n",
    "csv_file = 'filtered_data/test.csv'\n",
    "if not os.path.exists(csv_file):\n",
    "    print(f\"Error: The file {csv_file} does not exist.\")\n",
    "    sys.exit(1)\n",
    "df = pd.read_csv(csv_file, header=None, names=['op_type', 'rw', 'lpa_start', 'lpa_len'])\n",
    "# the row 0 is the header, so we need to skip it\n",
    "df = df.iloc[1:]\n",
    "# lpa_start is int, and lpa_len is int\n",
    "df['lpa_start'] = df['lpa_start'].astype(int)\n",
    "df['lpa_len'] = df['lpa_len'].astype(int)\n",
    "df.head()"
   ]
  },
  {
   "cell_type": "code",
   "execution_count": 65,
   "metadata": {},
   "outputs": [
    {
     "data": {
      "text/html": [
       "<div>\n",
       "<style scoped>\n",
       "    .dataframe tbody tr th:only-of-type {\n",
       "        vertical-align: middle;\n",
       "    }\n",
       "\n",
       "    .dataframe tbody tr th {\n",
       "        vertical-align: top;\n",
       "    }\n",
       "\n",
       "    .dataframe thead th {\n",
       "        text-align: right;\n",
       "    }\n",
       "</style>\n",
       "<table border=\"1\" class=\"dataframe\">\n",
       "  <thead>\n",
       "    <tr style=\"text-align: right;\">\n",
       "      <th></th>\n",
       "      <th>lpa_start</th>\n",
       "      <th>lpa_len</th>\n",
       "    </tr>\n",
       "  </thead>\n",
       "  <tbody>\n",
       "    <tr>\n",
       "      <th>8</th>\n",
       "      <td>5</td>\n",
       "      <td>10</td>\n",
       "    </tr>\n",
       "    <tr>\n",
       "      <th>9</th>\n",
       "      <td>3</td>\n",
       "      <td>4</td>\n",
       "    </tr>\n",
       "    <tr>\n",
       "      <th>10</th>\n",
       "      <td>20</td>\n",
       "      <td>3</td>\n",
       "    </tr>\n",
       "    <tr>\n",
       "      <th>11</th>\n",
       "      <td>12</td>\n",
       "      <td>10</td>\n",
       "    </tr>\n",
       "  </tbody>\n",
       "</table>\n",
       "</div>"
      ],
      "text/plain": [
       "    lpa_start  lpa_len\n",
       "8           5       10\n",
       "9           3        4\n",
       "10         20        3\n",
       "11         12       10"
      ]
     },
     "execution_count": 65,
     "metadata": {},
     "output_type": "execute_result"
    }
   ],
   "source": [
    "write_operations = df[df['rw'].isin(['W', 'I', 'WS', 'PUT'])][['lpa_start', 'lpa_len']]\n",
    "write_operations.head()"
   ]
  },
  {
   "cell_type": "code",
   "execution_count": 66,
   "metadata": {},
   "outputs": [
    {
     "name": "stdout",
     "output_type": "stream",
     "text": [
      "Processing LPA range: [5,14]\n",
      "Processing LPA range: [3,6]\n",
      "Processing LPA range: [20,22]\n",
      "Processing LPA range: [12,21]\n"
     ]
    }
   ],
   "source": [
    "mp = {} # key is lpa and value is its sequentialized lpa\n",
    "# iterate through the write operations and sequentialize them\n",
    "res = []\n",
    "allocated_vpa = 0\n",
    "for index, row in write_operations.iterrows():\n",
    "    lpa_start = row['lpa_start']\n",
    "    lpa_len = row['lpa_len']\n",
    "    print(f\"Processing LPA range: [{lpa_start},{lpa_start + lpa_len - 1}]\")\n",
    "    prev_mode = 'seq_w'\n",
    "    cnt = 0\n",
    "    from_lpa = lpa_start\n",
    "    for i in range(lpa_start, lpa_start + lpa_len):\n",
    "        if i in mp:\n",
    "            # hit, implies an update\n",
    "            if prev_mode == 'seq_w':\n",
    "                # first append (mode,from_lpa, cnt) to res\n",
    "                if cnt > 0:\n",
    "                    res.append((prev_mode, mp[from_lpa], cnt))\n",
    "                # then reset the cnt to 1, from_lpa to i, and prev_mode to 'update'\n",
    "                cnt = 1\n",
    "                from_lpa = i\n",
    "                prev_mode = 'up_w'\n",
    "            else: # already in update mode\n",
    "                # update the cnt\n",
    "                cnt += 1\n",
    "        else:\n",
    "            mp[i] = allocated_vpa\n",
    "            allocated_vpa += 1\n",
    "            if prev_mode == 'seq_w':\n",
    "                cnt += 1\n",
    "            else: # already in update mode\n",
    "                # first append (from_lpa, cnt) to res\n",
    "                if cnt > 0:\n",
    "                    res.append((prev_mode, mp[from_lpa], cnt))\n",
    "                # then reset the cnt to 1, from_lpa to i, and prev_mode to 'seq_write'\n",
    "                cnt = 1\n",
    "                from_lpa = i\n",
    "                prev_mode = 'seq_w'\n",
    "    # at the end of the for loop, append the last (prev_mode, from_lpa, cnt) to res\n",
    "    if cnt > 0:\n",
    "        res.append((prev_mode, mp[from_lpa], cnt))"
   ]
  },
  {
   "cell_type": "code",
   "execution_count": 67,
   "metadata": {},
   "outputs": [
    {
     "name": "stdout",
     "output_type": "stream",
     "text": [
      "Sequentialized data has been written to filtered_data/sequentialized_bin_0.csv\n"
     ]
    }
   ],
   "source": [
    "# dump res into a csv file\n",
    "output_file = 'filtered_data/sequentialized_bin_' + str(bin_id) + '.csv'\n",
    "res_df = pd.DataFrame(res, columns=['mode', 'vpa_start', 'cnt'])\n",
    "res_df.to_csv(output_file, index=False)\n",
    "print(f\"Sequentialized data has been written to {output_file}\")"
   ]
  },
  {
   "cell_type": "code",
   "execution_count": null,
   "metadata": {},
   "outputs": [],
   "source": []
  }
 ],
 "metadata": {
  "kernelspec": {
   "display_name": "popo",
   "language": "python",
   "name": "python3"
  },
  "language_info": {
   "codemirror_mode": {
    "name": "ipython",
    "version": 3
   },
   "file_extension": ".py",
   "mimetype": "text/x-python",
   "name": "python",
   "nbconvert_exporter": "python",
   "pygments_lexer": "ipython3",
   "version": "3.10.13"
  }
 },
 "nbformat": 4,
 "nbformat_minor": 2
}
