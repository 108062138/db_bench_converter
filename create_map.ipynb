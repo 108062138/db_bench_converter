{
 "cells": [
  {
   "cell_type": "code",
   "execution_count": 96,
   "metadata": {},
   "outputs": [
    {
     "name": "stdout",
     "output_type": "stream",
     "text": [
      "Number of bins: 10\n"
     ]
    }
   ],
   "source": [
    "import os\n",
    "import sys\n",
    "import pandas as pd\n",
    "# create seq folder if it does not exist\n",
    "output_dir = 'sequentialized_data'\n",
    "if not os.path.exists(output_dir):\n",
    "    os.makedirs(output_dir)\n",
    "# read in range.txt if it exists\n",
    "range_file = 'range.txt'\n",
    "num_bin = 0\n",
    "if os.path.exists(range_file):\n",
    "    with open(range_file, 'r') as f:\n",
    "        lines = f.readlines()\n",
    "        for line in lines:\n",
    "            # seperate it by whitespace\n",
    "            parts = line.strip().split()\n",
    "            if len(parts)==1:\n",
    "                num_bin = int(parts[0])\n",
    "                break\n",
    "print(f'Number of bins: {num_bin}')"
   ]
  },
  {
   "cell_type": "code",
   "execution_count": 97,
   "metadata": {},
   "outputs": [
    {
     "name": "stdout",
     "output_type": "stream",
     "text": [
      "Sequentialized data has been written to sequentialized_data/bin_0.csv\n",
      "Sequentialized data has been written to sequentialized_data/bin_1.csv\n",
      "Sequentialized data has been written to sequentialized_data/bin_2.csv\n",
      "Sequentialized data has been written to sequentialized_data/bin_3.csv\n",
      "Sequentialized data has been written to sequentialized_data/bin_4.csv\n",
      "Sequentialized data has been written to sequentialized_data/bin_5.csv\n",
      "Sequentialized data has been written to sequentialized_data/bin_6.csv\n",
      "Sequentialized data has been written to sequentialized_data/bin_7.csv\n",
      "Sequentialized data has been written to sequentialized_data/bin_8.csv\n",
      "Sequentialized data has been written to sequentialized_data/bin_9.csv\n"
     ]
    }
   ],
   "source": [
    "for bin_id in range(0, num_bin):\n",
    "    csv_file = 'filtered_data/bin_' + str(bin_id) + '.csv'\n",
    "    # csv_file = 'filtered_data/test.csv'\n",
    "    if not os.path.exists(csv_file):\n",
    "        print(f\"Error: The file {csv_file} does not exist.\")\n",
    "        sys.exit(1)\n",
    "    df = pd.read_csv(csv_file, header=None, names=['op_type', 'rw', 'lpa_start', 'lpa_len'])\n",
    "    # the row 0 is the header, so we need to skip it\n",
    "    df = df.iloc[1:]\n",
    "    # lpa_start is int, and lpa_len is int\n",
    "    df['lpa_start'] = df['lpa_start'].astype(int)\n",
    "    df['lpa_len'] = df['lpa_len'].astype(int)\n",
    "    # we pick only write operation to covnert for read opertion's address didn't follow # \n",
    "    write_operations = df[df['rw'].isin(['W', 'I', 'WS', 'PUT'])][['lpa_start', 'lpa_len']]\n",
    "    write_operations.head()\n",
    "\n",
    "    mp = {} # key is lpa and value is its sequentialized lpa\n",
    "    # iterate through the write operations and sequentialize them\n",
    "    res = []\n",
    "    allocated_vpa = 0\n",
    "    for index, row in write_operations.iterrows():\n",
    "        lpa_start = row['lpa_start']\n",
    "        lpa_len = row['lpa_len']\n",
    "        # print(f\"Processing LPA range: [{lpa_start},{lpa_start + lpa_len - 1}]\")\n",
    "        prev_mode = 'seq_w'\n",
    "        cnt = 0\n",
    "        from_lpa = lpa_start\n",
    "        for i in range(lpa_start, lpa_start + lpa_len):\n",
    "            if i in mp:\n",
    "                # hit, implies an update\n",
    "                if prev_mode == 'seq_w':\n",
    "                    # first append (mode,from_lpa, cnt) to res\n",
    "                    if cnt > 0:\n",
    "                        res.append((prev_mode, mp[from_lpa], cnt))\n",
    "                    # then reset the cnt to 1, from_lpa to i, and prev_mode to 'update'\n",
    "                    cnt = 1\n",
    "                    from_lpa = i\n",
    "                    prev_mode = 'up_w'\n",
    "                else: # already in update mode\n",
    "                    # update the cnt\n",
    "                    cnt += 1\n",
    "            else:\n",
    "                mp[i] = allocated_vpa\n",
    "                allocated_vpa += 1\n",
    "                if prev_mode == 'seq_w':\n",
    "                    cnt += 1\n",
    "                else: # already in update mode\n",
    "                    # first append (from_lpa, cnt) to res\n",
    "                    if cnt > 0:\n",
    "                        res.append((prev_mode, mp[from_lpa], cnt))\n",
    "                    # then reset the cnt to 1, from_lpa to i, and prev_mode to 'seq_write'\n",
    "                    cnt = 1\n",
    "                    from_lpa = i\n",
    "                    prev_mode = 'seq_w'\n",
    "        # at the end of the for loop, append the last (prev_mode, from_lpa, cnt) to res\n",
    "        if cnt > 0:\n",
    "            res.append((prev_mode, mp[from_lpa], cnt))\n",
    "\n",
    "    # dump res into a csv file\n",
    "    output_file = output_dir + '/bin_' + str(bin_id) + '.csv'\n",
    "    res_df = pd.DataFrame(res, columns=['mode', 'vpa_start', 'cnt'])\n",
    "    res_df.to_csv(output_file, index=False)\n",
    "    print(f\"Sequentialized data has been written to {output_file}\")"
   ]
  }
 ],
 "metadata": {
  "kernelspec": {
   "display_name": "popo",
   "language": "python",
   "name": "python3"
  },
  "language_info": {
   "codemirror_mode": {
    "name": "ipython",
    "version": 3
   },
   "file_extension": ".py",
   "mimetype": "text/x-python",
   "name": "python",
   "nbconvert_exporter": "python",
   "pygments_lexer": "ipython3",
   "version": "3.10.13"
  }
 },
 "nbformat": 4,
 "nbformat_minor": 2
}
