{
 "cells": [
  {
   "cell_type": "code",
   "execution_count": 36,
   "metadata": {},
   "outputs": [],
   "source": [
    "import pandas as pd\n",
    "import re\n",
    "def parse_log_line(line):\n",
    "    # Pattern for full line with LPA range\n",
    "    pattern_full = r\"(\\d+),(\\d+)\\s+(\\d+)\\s+(\\d+)\\s+([\\d.]+)\\s+(\\d+)\\s+([A-Z])\\s+([A-Z]{1,2})\\s+(\\d+)\\s+\\+\\s+(\\d+)\\s+\\[(.+?)\\]\"\n",
    "    match_full = re.match(pattern_full, line)\n",
    "\n",
    "    if match_full:\n",
    "        # Skip if 'rw' is N (discarding unwanted trace)\n",
    "        if match_full.group(8) == 'N':\n",
    "            return None\n",
    "        return {\n",
    "            \"device\": int(match_full.group(1)),\n",
    "            \"section\": int(match_full.group(2)),\n",
    "            \"cpu_id\": int(match_full.group(3)),\n",
    "            \"sequence\": int(match_full.group(4)),\n",
    "            \"timestamp\": float(match_full.group(5)),\n",
    "            \"pid\": int(match_full.group(6)),\n",
    "            \"op_type\": match_full.group(7),\n",
    "            \"rw\": match_full.group(8),\n",
    "            \"lpa_start\": int(match_full.group(9)),\n",
    "            \"lpa_len\": int(match_full.group(10)),\n",
    "            \"thread\": match_full.group(11),\n",
    "        }\n",
    "\n",
    "    # Pattern for lines like: U   N [java] 1\n",
    "    pattern_short = r\"(\\d+),(\\d+)\\s+(\\d+)\\s+(\\d+)\\s+([\\d.]+)\\s+(\\d+)\\s+([A-Z])\\s+([A-Z]{1,2})\\s+\\[(.+?)\\]\\s*(\\d+)?\"\n",
    "    match_short = re.match(pattern_short, line)\n",
    "\n",
    "    if match_short:\n",
    "        if match_short.group(8) == 'N':\n",
    "            return None  # Discard\n",
    "        return {\n",
    "            \"device\": int(match_short.group(1)),\n",
    "            \"section\": int(match_short.group(2)),\n",
    "            \"cpu_id\": int(match_short.group(3)),\n",
    "            \"sequence\": int(match_short.group(4)),\n",
    "            \"timestamp\": float(match_short.group(5)),\n",
    "            \"pid\": int(match_short.group(6)),\n",
    "            \"op_type\": match_short.group(7),\n",
    "            \"rw\": match_short.group(8),\n",
    "            \"lpa_start\": None,\n",
    "            \"lpa_len\": None,\n",
    "            \"thread\": match_short.group(9),\n",
    "        }\n",
    "\n",
    "    return None  # Line does not match any format"
   ]
  },
  {
   "cell_type": "code",
   "execution_count": 37,
   "metadata": {},
   "outputs": [
    {
     "name": "stdout",
     "output_type": "stream",
     "text": [
      "Max LPA Length: 2048\n"
     ]
    }
   ],
   "source": [
    "log_file = \"ssdtrace-07\"\n",
    "max_cnt = 10000\n",
    "parsed_data = []\n",
    "with open(log_file, \"r\") as f:\n",
    "    cnt = 0\n",
    "    for line in f:\n",
    "        result = parse_log_line(line.strip())\n",
    "        if cnt==max_cnt:\n",
    "            break\n",
    "        if result: \n",
    "            parsed_data.append(result)\n",
    "        cnt += 1\n",
    "df = pd.DataFrame(parsed_data)\n",
    "df.head()\n",
    "# get the max lpa_len\n",
    "max_lpa_len = df['lpa_len'].max() if 'lpa_len' in df else None\n",
    "if max_lpa_len is not None:\n",
    "    print(f\"Max LPA Length: {max_lpa_len}\")"
   ]
  },
  {
   "cell_type": "code",
   "execution_count": 38,
   "metadata": {},
   "outputs": [
    {
     "data": {
      "text/html": [
       "<div>\n",
       "<style scoped>\n",
       "    .dataframe tbody tr th:only-of-type {\n",
       "        vertical-align: middle;\n",
       "    }\n",
       "\n",
       "    .dataframe tbody tr th {\n",
       "        vertical-align: top;\n",
       "    }\n",
       "\n",
       "    .dataframe thead th {\n",
       "        text-align: right;\n",
       "    }\n",
       "</style>\n",
       "<table border=\"1\" class=\"dataframe\">\n",
       "  <thead>\n",
       "    <tr style=\"text-align: right;\">\n",
       "      <th></th>\n",
       "      <th>op_type</th>\n",
       "      <th>rw</th>\n",
       "      <th>lpa_start</th>\n",
       "      <th>lpa_len</th>\n",
       "    </tr>\n",
       "  </thead>\n",
       "  <tbody>\n",
       "    <tr>\n",
       "      <th>0</th>\n",
       "      <td>D</td>\n",
       "      <td>RS</td>\n",
       "      <td>86257816</td>\n",
       "      <td>8</td>\n",
       "    </tr>\n",
       "    <tr>\n",
       "      <th>1</th>\n",
       "      <td>Q</td>\n",
       "      <td>R</td>\n",
       "      <td>941542392</td>\n",
       "      <td>16</td>\n",
       "    </tr>\n",
       "    <tr>\n",
       "      <th>2</th>\n",
       "      <td>Q</td>\n",
       "      <td>R</td>\n",
       "      <td>616411496</td>\n",
       "      <td>16</td>\n",
       "    </tr>\n",
       "    <tr>\n",
       "      <th>3</th>\n",
       "      <td>G</td>\n",
       "      <td>R</td>\n",
       "      <td>616411496</td>\n",
       "      <td>16</td>\n",
       "    </tr>\n",
       "    <tr>\n",
       "      <th>4</th>\n",
       "      <td>G</td>\n",
       "      <td>R</td>\n",
       "      <td>941542392</td>\n",
       "      <td>16</td>\n",
       "    </tr>\n",
       "  </tbody>\n",
       "</table>\n",
       "</div>"
      ],
      "text/plain": [
       "  op_type  rw  lpa_start  lpa_len\n",
       "0       D  RS   86257816        8\n",
       "1       Q   R  941542392       16\n",
       "2       Q   R  616411496       16\n",
       "3       G   R  616411496       16\n",
       "4       G   R  941542392       16"
      ]
     },
     "execution_count": 38,
     "metadata": {},
     "output_type": "execute_result"
    }
   ],
   "source": [
    "# only lpa_start, lpa_len remains\n",
    "df = df.drop(columns=[\"device\", \"section\", \"cpu_id\", \"sequence\", \"timestamp\", \"pid\", \"thread\"])\n",
    "df.head()"
   ]
  },
  {
   "cell_type": "code",
   "execution_count": 39,
   "metadata": {},
   "outputs": [
    {
     "name": "stdout",
     "output_type": "stream",
     "text": [
      "Number of W Operations: 0\n",
      "Number of I Operations: 0\n",
      "Number of WS Operations: 1442\n",
      "Number of PUT Operations: 0\n"
     ]
    }
   ],
   "source": [
    "write_count = df[df['rw'] == 'W'].shape[0]\n",
    "print(f\"Number of W Operations: {write_count}\")\n",
    "write_count = df[df['rw'] == 'I'].shape[0]\n",
    "print(f\"Number of I Operations: {write_count}\")\n",
    "write_count = df[df['rw'] == 'WS'].shape[0]\n",
    "print(f\"Number of WS Operations: {write_count}\")\n",
    "write_count = df[df['rw'] == 'PUT'].shape[0]\n",
    "print(f\"Number of PUT Operations: {write_count}\")"
   ]
  },
  {
   "cell_type": "code",
   "execution_count": 40,
   "metadata": {},
   "outputs": [],
   "source": [
    "import pandas as pd\n",
    "import matplotlib.pyplot as plt\n",
    "import os\n",
    "\n",
    "# create folder for filtered data if it doesn't exist\n",
    "output_dir = \"filtered_data\"\n",
    "if not os.path.exists(output_dir):\n",
    "    os.makedirs(output_dir)\n",
    "\n",
    "write_operations = df[df['rw'].isin(['W', 'I', 'WS', 'PUT'])][['lpa_start', 'lpa_len']]"
   ]
  },
  {
   "cell_type": "code",
   "execution_count": 41,
   "metadata": {},
   "outputs": [
    {
     "data": {
      "image/png": "[encoded data removed]",
      "text/plain": [
       "<Figure size 640x480 with 1 Axes>"
      ]
     },
     "metadata": {},
     "output_type": "display_data"
    }
   ],
   "source": [
    "# 畫 histogram 並取得詳細資料\n",
    "counts, bin_edges, patches = plt.hist(write_operations['lpa_start'], bins=20, edgecolor='black')\n",
    "\n",
    "plt.xlabel('LPA Start')\n",
    "plt.ylabel('Number of Write Operations')\n",
    "plt.title('Histogram of LPA Start for Write Operations')\n",
    "\n",
    "# 在每個 bar 上加上標籤（顯示 bin 範圍和數量）\n",
    "for i in range(len(counts)):\n",
    "    bin_start = int(bin_edges[i])\n",
    "    bin_end = int(bin_edges[i+1]) - 1\n",
    "    count = int(counts[i])\n",
    "    bin_label = f\"{bin_start}~{bin_end}\\n({count})\"\n",
    "\n",
    "plt.tight_layout()\n",
    "plt.show()"
   ]
  },
  {
   "cell_type": "code",
   "execution_count": 42,
   "metadata": {},
   "outputs": [
    {
     "name": "stdout",
     "output_type": "stream",
     "text": [
      "Filtered DataFrame Size: (336, 4)\n",
      "Range 627424768~641508438 written to range.txt\n",
      "Filtered DataFrame Size: (75, 4)\n",
      "Range 641508439~655592110 written to range.txt\n",
      "Filtered DataFrame Size: (369, 4)\n",
      "Range 655592111~669675781 written to range.txt\n",
      "Filtered DataFrame Size: (60, 4)\n",
      "Range 669675782~683759453 written to range.txt\n",
      "Filtered DataFrame Size: (95, 4)\n",
      "Range 683759454~697843125 written to range.txt\n",
      "Filtered DataFrame Size: (84, 4)\n",
      "Range 697843126~711926796 written to range.txt\n",
      "Filtered DataFrame Size: (105, 4)\n",
      "Range 711926797~726010468 written to range.txt\n",
      "Filtered DataFrame Size: (59, 4)\n",
      "Range 726010469~740094139 written to range.txt\n",
      "Filtered DataFrame Size: (90, 4)\n",
      "Range 740094140~754177811 written to range.txt\n",
      "Filtered DataFrame Size: (85, 4)\n",
      "Range 754177812~768261483 written to range.txt\n",
      "Filtered DataFrame Size: (81, 4)\n",
      "Range 768261484~782345154 written to range.txt\n",
      "Filtered DataFrame Size: (164, 4)\n",
      "Range 782345155~796428826 written to range.txt\n",
      "Filtered DataFrame Size: (375, 4)\n",
      "Range 796428827~810512497 written to range.txt\n",
      "Filtered DataFrame Size: (105, 4)\n",
      "Range 810512498~824596169 written to range.txt\n",
      "Filtered DataFrame Size: (75, 4)\n",
      "Range 824596170~838679841 written to range.txt\n",
      "Filtered DataFrame Size: (109, 4)\n",
      "Range 838679842~852763512 written to range.txt\n",
      "Filtered DataFrame Size: (494, 4)\n",
      "Range 852763513~866847184 written to range.txt\n",
      "Filtered DataFrame Size: (30, 4)\n",
      "Range 866847185~880930855 written to range.txt\n",
      "Filtered DataFrame Size: (361, 4)\n",
      "Range 880930856~895014527 written to range.txt\n",
      "Filtered DataFrame Size: (440, 4)\n",
      "Range 895014528~909098199 written to range.txt\n"
     ]
    }
   ],
   "source": [
    "# remove range.txt when it exists\n",
    "if os.path.exists(\"range.txt\"):\n",
    "    os.remove(\"range.txt\")\n",
    "\n",
    "for bin_id in range(len(counts)):\n",
    "    # filter out the dataframe with the first bin's start and end\n",
    "    bin_start = int(bin_edges[bin_id])\n",
    "    bin_end = int(bin_edges[bin_id+1]) - 1\n",
    "    filtered_df = df[(df['lpa_start'] >= bin_start) & (df['lpa_start'] <= bin_end)]\n",
    "    # show filtered_df's size\n",
    "    print(f\"Filtered DataFrame Size: {filtered_df.shape}\")\n",
    "    # dump filtered dataframe to csv by bin_id\n",
    "    filtered_df.to_csv(f\"filtered_data/bin_{bin_id}.csv\", index=False)\n",
    "    # append the range to range.txt\n",
    "    with open(\"range.txt\", \"a\") as f:\n",
    "        f.write(f\"{bin_start}~{bin_end}\\n\")\n",
    "        print(f\"Range {bin_start}~{bin_end} written to range.txt\")"
   ]
  }
 ],
 "metadata": {
  "kernelspec": {
   "display_name": "popo",
   "language": "python",
   "name": "python3"
  },
  "language_info": {
   "codemirror_mode": {
    "name": "ipython",
    "version": 3
   },
   "file_extension": ".py",
   "mimetype": "text/x-python",
   "name": "python",
   "nbconvert_exporter": "python",
   "pygments_lexer": "ipython3",
   "version": "3.10.13"
  }
 },
 "nbformat": 4,
 "nbformat_minor": 2
}
